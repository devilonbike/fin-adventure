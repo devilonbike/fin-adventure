{
  "nbformat": 4,
  "nbformat_minor": 0,
  "metadata": {
    "colab": {
      "name": "Deep Volatility Experiment.ipynb",
      "provenance": [],
      "collapsed_sections": [],
      "toc_visible": true,
      "authorship_tag": "ABX9TyMs0qa7M+j6iOK/vQ5cLw/e",
      "include_colab_link": true
    },
    "kernelspec": {
      "name": "python3",
      "display_name": "Python 3"
    }
  },
  "cells": [
    {
      "cell_type": "markdown",
      "metadata": {
        "id": "view-in-github",
        "colab_type": "text"
      },
      "source": [
        "<a href=\"https://colab.research.google.com/github/devilonbike/fin-adventure/blob/main/Deep_Volatility_Experiment.ipynb\" target=\"_parent\"><img src=\"https://colab.research.google.com/assets/colab-badge.svg\" alt=\"Open In Colab\"/></a>"
      ]
    },
    {
      "cell_type": "markdown",
      "metadata": {
        "id": "XKGTL16Xu-zp"
      },
      "source": [
        "Copyright 2020 Raghavendra Bazari\r\n",
        "\r\n",
        "Licensed under the Apache License, Version 2.0 (the \"License\");\r\n",
        "you may not use this file except in compliance with the License.\r\n",
        "You may obtain a copy of the License at\r\n",
        "\r\n",
        "     https://www.apache.org/licenses/LICENSE-2.0\r\n",
        "\r\n",
        "Unless required by applicable law or agreed to in writing, software\r\n",
        "distributed under the License is distributed on an \"AS IS\" BASIS,\r\n",
        "WITHOUT WARRANTIES OR CONDITIONS OF ANY KIND, either express or implied.\r\n",
        "See the License for the specific language governing permissions and\r\n",
        "limitations under the License."
      ]
    },
    {
      "cell_type": "markdown",
      "metadata": {
        "id": "uwzca8jukIEE"
      },
      "source": [
        "# Library Imports"
      ]
    },
    {
      "cell_type": "code",
      "metadata": {
        "id": "_rIi8wmAm120",
        "colab": {
          "base_uri": "https://localhost:8080/"
        },
        "outputId": "86de7061-a933-4fad-9afa-566e5f5077e4"
      },
      "source": [
        "!pip install tf_quant_finance\r\n",
        "\r\n",
        "import numpy as np\r\n",
        "import tensorflow as tf\r\n",
        "import tf_quant_finance as tff\r\n",
        "from tf_quant_finance.math import *\r\n",
        "from tf_quant_finance.math.piecewise import *\r\n",
        "\r\n",
        "from tf_quant_finance.models import *\r\n",
        "from tf_quant_finance.models.generic_ito_process import *\r\n",
        "from tf_quant_finance.models.generic_ito_process import *\r\n",
        "\r\n",
        "import time\r\n",
        "\r\n",
        "import scipy.optimize as optimize"
      ],
      "execution_count": 1,
      "outputs": [
        {
          "output_type": "stream",
          "text": [
            "Collecting tf_quant_finance\n",
            "\u001b[?25l  Downloading https://files.pythonhosted.org/packages/2e/36/d58e404336ab63174f22494d3eb1c1a192d551b96b8a0fcfdef4f735bf59/tf_quant_finance-0.0.1.dev24-py2.py3-none-any.whl (1.2MB)\n",
            "\u001b[K     |████████████████████████████████| 1.2MB 7.5MB/s \n",
            "\u001b[?25hRequirement already satisfied: protobuf in /usr/local/lib/python3.6/dist-packages (from tf_quant_finance) (3.12.4)\n",
            "Requirement already satisfied: attrs>=18.2.0 in /usr/local/lib/python3.6/dist-packages (from tf_quant_finance) (20.3.0)\n",
            "Requirement already satisfied: tensorflow-probability>=0.9.0 in /usr/local/lib/python3.6/dist-packages (from tf_quant_finance) (0.11.0)\n",
            "Requirement already satisfied: numpy>=1.16.0 in /usr/local/lib/python3.6/dist-packages (from tf_quant_finance) (1.19.4)\n",
            "Requirement already satisfied: six>=1.9 in /usr/local/lib/python3.6/dist-packages (from protobuf->tf_quant_finance) (1.15.0)\n",
            "Requirement already satisfied: setuptools in /usr/local/lib/python3.6/dist-packages (from protobuf->tf_quant_finance) (51.0.0)\n",
            "Requirement already satisfied: dm-tree in /usr/local/lib/python3.6/dist-packages (from tensorflow-probability>=0.9.0->tf_quant_finance) (0.1.5)\n",
            "Requirement already satisfied: cloudpickle==1.3 in /usr/local/lib/python3.6/dist-packages (from tensorflow-probability>=0.9.0->tf_quant_finance) (1.3.0)\n",
            "Requirement already satisfied: decorator in /usr/local/lib/python3.6/dist-packages (from tensorflow-probability>=0.9.0->tf_quant_finance) (4.4.2)\n",
            "Requirement already satisfied: gast>=0.3.2 in /usr/local/lib/python3.6/dist-packages (from tensorflow-probability>=0.9.0->tf_quant_finance) (0.3.3)\n",
            "Installing collected packages: tf-quant-finance\n",
            "Successfully installed tf-quant-finance-0.0.1.dev24\n"
          ],
          "name": "stdout"
        }
      ]
    },
    {
      "cell_type": "markdown",
      "metadata": {
        "id": "9034FqNUehMe"
      },
      "source": [
        "# Model Setup\r\n",
        "Let's start by defining a *toy model* (generic Ito Process), which will be function of specific model parameters. \r\n",
        "\r\n",
        "This model can be used to price call options with specific *maturities* and *strikes* and therefore implied vols (using blackscholes one to one mapping between prie and implied vol).\r\n",
        "\r\n",
        "Our aim find the values of model paramters such that implied vols calculated from *this* model matches with implied vols obtained from market (this process is called calibration)."
      ]
    },
    {
      "cell_type": "markdown",
      "metadata": {
        "id": "a-_BSMG8jyF0"
      },
      "source": [
        "## Model Definition\r\n",
        "Creating a toy model definition by following [lognormal](https://en.wikipedia.org/wiki/Log-normal_distributio) fx, [vasicek](https://en.wikipedia.org/wiki/Vasicek_model) ir & [local vol](https://en.wikipedia.org/wiki/Local_volatility) fx_vol"
      ]
    },
    {
      "cell_type": "code",
      "metadata": {
        "id": "J8RhOyp7p4fT"
      },
      "source": [
        "class TimeSeries:\r\n",
        "  \"\"\" Container that represent piecewise functions of time, compatible with XLA\"\"\"\r\n",
        "  def __init__(self,jump_locations, values):\r\n",
        "    self.jump_locations = jump_locations\r\n",
        "    self.values = values\r\n",
        "\r\n",
        "  def apply(self, input):\r\n",
        "    res = self.values[-1] \r\n",
        "    for idx in range(len(self.jump_locations)):\r\n",
        "      curr_jump_loc = self.jump_locations[idx]\r\n",
        "      if input <= curr_jump_loc:\r\n",
        "        res = self.values[idx]\r\n",
        "    return res\r\n",
        "\r\n",
        "class BlackScholesWithVasicelAndLocalVol(GenericItoProcess):\r\n",
        "  \"\"\"Toy Model for lognormal fx, vasicek ir & local vol fx\"\"\"\r\n",
        "\r\n",
        "  def __init__(self,\r\n",
        "               # rate 1 model paramters\r\n",
        "               kappa_rate_1, theta_rate_1, vol_rate_1, fwd_rate_1,\r\n",
        "               # rate 2 model paramters\r\n",
        "               kappa_rate_2, theta_rate_2, vol_rate_2, fwd_rate_2,\r\n",
        "               # fx vol model paramters\r\n",
        "               jump_strikes, local_vol_fx,\r\n",
        "               # fx model paramters\r\n",
        "               fx_fwd,\r\n",
        "               # correlation matrix\r\n",
        "               corr_matrix,\r\n",
        "               # descretiozation jump dt\r\n",
        "               step_size,\r\n",
        "               # numerical accuracy specifics\r\n",
        "               dtype=None):\r\n",
        "    \r\n",
        "    # basic variables from parent class 'GenericItoProcess' \r\n",
        "    self._name = 'BlackScholesWithVasicelAndLocalVol'\r\n",
        "    self._dim = 4\r\n",
        "    self._dtype = dtype\r\n",
        "\r\n",
        "    # rate 1 model paramters\r\n",
        "    self.kappa_rate_1 = kappa_rate_1;\r\n",
        "    self.theta_rate_1 = theta_rate_1;\r\n",
        "    self.vol_rate_1 = vol_rate_1;\r\n",
        "    self.fwd_rate_1 = fwd_rate_1;\r\n",
        "\r\n",
        "    # rate 2 model paramters\r\n",
        "    self.kappa_rate_2 = kappa_rate_2;\r\n",
        "    self.theta_rate_2 = theta_rate_2;\r\n",
        "    self.vol_rate_2 = vol_rate_2;\r\n",
        "    self.fwd_rate_2 = fwd_rate_2;\r\n",
        "\r\n",
        "    # fx vol model paramters\r\n",
        "    self.jump_strikes = jump_strikes\r\n",
        "    self.log_jump_strikes = tf.math.log(jump_strikes)\r\n",
        "    self.local_vol_fx = local_vol_fx;\r\n",
        "\r\n",
        "    # fx model paramters\r\n",
        "    self.fx_fwd = fx_fwd\r\n",
        "\r\n",
        "    # descretiozation jump dt\r\n",
        "    self.step_size = step_size\r\n",
        "\r\n",
        "    # correlation matrix\r\n",
        "    self.cholesky = tf.linalg.cholesky(corr_matrix);   \r\n",
        "\r\n",
        "  def _volatility_fn(self, t, x):\r\n",
        "\r\n",
        "    vol_fx = x[..., 2]\r\n",
        "    zeros = tf.zeros_like(vol_fx)\r\n",
        "    ones = tf.ones_like(vol_fx)\r\n",
        "\r\n",
        "    vol_rate_1 = self.vol_rate_1.apply(t) * ones\r\n",
        "    vol_rate_2 = self.vol_rate_2.apply(t) * ones\r\n",
        "    vol_vol_fx = zeros\r\n",
        "\r\n",
        "    vol_array = [ vol_rate_1, vol_rate_2,vol_vol_fx, vol_fx]\r\n",
        "    \r\n",
        "    columns = [];\r\n",
        "    for col in range(self._dim):\r\n",
        "      current_columns = []\r\n",
        "      for row in range(self._dim):\r\n",
        "        current_columns.append(self.cholesky[row][col] * vol_array[row])\r\n",
        "      columns.append(tf.stack(current_columns, -1))\r\n",
        "      \r\n",
        "    result_matrix = tf.stack(columns, -1)\r\n",
        "    return result_matrix\r\n",
        "\r\n",
        "  def _drift_fn(self, t, x):\r\n",
        "    rate_factor_1 = x[..., 0]\r\n",
        "    rate_factor_2 = x[..., 1]\r\n",
        "    vol_fx = x[..., 2]\r\n",
        "    log_fx = x[..., 3]\r\n",
        "    \r\n",
        "    fwd_rate_1_t = self.fwd_rate_1.apply(t)\r\n",
        "    fwd_rate_2_t = self.fwd_rate_2.apply(t)\r\n",
        "\r\n",
        "    rate_1 = fwd_rate_1_t + rate_factor_1\r\n",
        "    rate_2 = fwd_rate_2_t + rate_factor_2\r\n",
        "    \r\n",
        "    lv_for_current_t = self.local_vol_fx.apply(t)\r\n",
        "    lv_func = PiecewiseConstantFunc(jump_locations=self.log_jump_strikes, values=lv_for_current_t, dtype=dtype)\r\n",
        "    new_vol_fx = lv_func(log_fx)\r\n",
        "    \r\n",
        "    self.old_vol = new_vol_fx\r\n",
        "\r\n",
        "    drift_rate_1 = self.kappa_rate_1.apply(t) * (self.theta_rate_1.apply(t) - rate_factor_1)\r\n",
        "    drift_rate_2 = self.kappa_rate_2.apply(t) * (self.theta_rate_2.apply(t) - rate_factor_2)\r\n",
        "    drift_vol_fx = (new_vol_fx - vol_fx)/self.step_size\r\n",
        "    drift_fx = (rate_1 - rate_2) - 0.5 * vol_fx * vol_fx\r\n",
        "\r\n",
        "    drift = tf.stack([ drift_rate_1, drift_rate_2, drift_vol_fx, drift_fx ], -1)\r\n",
        "    return drift \r\n",
        "\r\n",
        "  def implied_vol(self,\r\n",
        "                  option_strikes,\r\n",
        "                  option_maturities,\r\n",
        "                  num_samples):\r\n",
        "    \r\n",
        "    paths = self.sample_paths(\r\n",
        "          option_maturities,\r\n",
        "          num_samples=num_samples,\r\n",
        "          initial_state=np.array([0.0, 0.0, 0.0, 0.0], dtype=self._dtype.name),\r\n",
        "          time_step=self.step_size,\r\n",
        "          random_type=tff.math.random.RandomType.STATELESS_ANTITHETIC,\r\n",
        "          seed=[42, 56])\r\n",
        "\r\n",
        "    number_of_strikes = len(option_strikes)\r\n",
        "    implied_vols = []\r\n",
        "    for maturity_idx in range(len(option_maturities)):\r\n",
        "      curr_maturity = option_maturities[maturity_idx]\r\n",
        "      curr_paths = paths[:,maturity_idx]\r\n",
        "      curr_fwd = self.fx_fwd.apply(curr_maturity)\r\n",
        "      df = tf.exp(-curr_paths[:,0]*curr_maturity)\r\n",
        "      df_mean = tf.math.reduce_mean(df) \r\n",
        "      fx = curr_fwd * tf.exp(curr_paths[:,3])\r\n",
        "      \r\n",
        "      prices = []\r\n",
        "      for strike_idx in range(number_of_strikes):\r\n",
        "        curr_strike = option_strikes[strike_idx]\r\n",
        "        price = tf.math.reduce_mean(tf.maximum(tf.constant(0.0, dtype=self._dtype), (fx - curr_strike)))\r\n",
        "        prices.append(price)\r\n",
        "  \r\n",
        "      implied_vols_for_curr_expiry = tff.black_scholes.implied_vol(\r\n",
        "          prices=prices,\r\n",
        "          strikes=option_strikes,\r\n",
        "          expiries= [curr_maturity] * number_of_strikes,\r\n",
        "          forwards=[curr_fwd] * number_of_strikes,\r\n",
        "          discount_factors= [df_mean] * number_of_strikes,\r\n",
        "          is_call_options=True)\r\n",
        "    \r\n",
        "      implied_vols_for_curr_expiry_parsed = []\r\n",
        "      for option_idx in range(0, len(implied_vols_for_curr_expiry)):\r\n",
        "        curr_implied_vol = implied_vols_for_curr_expiry[option_idx] \r\n",
        "        if np.isnan(curr_implied_vol):\r\n",
        "          curr_implied_vol = min(0, prices[option_idx].numpy() - max(curr_fwd - option_strikes[option_idx], 0))\r\n",
        "        implied_vols_for_curr_expiry_parsed.append(curr_implied_vol)\r\n",
        "  \r\n",
        "      implied_vols.append(implied_vols_for_curr_expiry_parsed)\r\n",
        "\r\n",
        "    return implied_vols"
      ],
      "execution_count": 66,
      "outputs": []
    },
    {
      "cell_type": "markdown",
      "metadata": {
        "id": "4czd6d_QkVHh"
      },
      "source": [
        "## Model Initialization\r\n",
        "\r\n",
        "Initialize the model with dummy values of model parameters"
      ]
    },
    {
      "cell_type": "code",
      "metadata": {
        "id": "R_HNxU8FkZxN"
      },
      "source": [
        "# Let's instantiate a model with dummy model paramter values\r\n",
        "\r\n",
        "dtype=tf.float64\r\n",
        "jump_locations = np.array([0.05, 0.1, 0.15, 0.2, 0.3, 0.5, 0.7, 0.9, 1.1])\r\n",
        "jump_strikes = np.array([0.95, 0.99 , 1, 1.001])\r\n",
        "\r\n",
        "# This is one of the model paramters, that we are going to keep changing\r\n",
        "lv_surface = [[0.6, 0.36, 0.246, 0.546, 0.7978],\r\n",
        "              [0.68, 0.37, 0.112, 0.476, 0.8987],\r\n",
        "              [0.65, 0.33, 0.224, 0.676, 0.764],\r\n",
        "              [0.634, 0.336, 0.332, 0.566, 0.907],\r\n",
        "              [0.76, 0.456, 0.152, 0.601, 0.67],\r\n",
        "              [0.676, 0.3745, 0.1632, 0.623, 0.788],\r\n",
        "              [0.687, 0.243, 0.2123, 0.622, 0.7576],\r\n",
        "              [0.576, 0.473, 0.253, 0.556, 0.7123],\r\n",
        "              [0.56, 0.346, 0.2252, 0.786, 0.867],\r\n",
        "              [0.786, 0.354, 0.2691, 0.634, 0.7545]]\r\n",
        "\r\n",
        "model = BlackScholesWithVasicelAndLocalVol(\r\n",
        "    kappa_rate_1 = TimeSeries(jump_locations=jump_locations, values=np.array([0.05, 0.02, 0.07, 0.02, 0.04, 0.06, 0.07, 0.02, 0.08, 0.09],dtype=dtype.name)),\r\n",
        "    theta_rate_1 = TimeSeries(jump_locations=jump_locations, values=np.array([1.2, 2, 1.5, 1.7, 1, 1.3, 1.9, 3.0, 2.5, 1.0],dtype=dtype.name)),\r\n",
        "    vol_rate_1 = TimeSeries(jump_locations=jump_locations, values=np.array([0.11, 0.15, 0.9, 0.15,  0.15, 0.3, 0.15, 0.2, 0.17, 0.4],dtype=dtype.name)),\r\n",
        "    fwd_rate_1 = TimeSeries(jump_locations=jump_locations, values=np.array([0.02, 0.021, 0.022, 0.023, 0.019, 0.018, 0.23, 0.025, 0.015, 0.019],dtype=dtype.name)),\r\n",
        "    kappa_rate_2 = TimeSeries(jump_locations=jump_locations, values=np.array([0.05, 0.02, 0.07, 0.02, 0.04, 0.06, 0.07, 0.02, 0.08, 0.09],dtype=dtype.name)),\r\n",
        "    theta_rate_2 = TimeSeries(jump_locations=jump_locations, values=np.array([1.2, 2, 1.5, 1.7, 1, 1.3, 1.9, 3.0, 2.5, 1.0],dtype=dtype.name)),\r\n",
        "    vol_rate_2 = TimeSeries(jump_locations=jump_locations, values=np.array([0.11, 0.15, 0.9, 0.15,  0.15, 0.3, 0.15, 0.2, 0.17, 0.4],dtype=dtype.name)),\r\n",
        "    fwd_rate_2 = TimeSeries(jump_locations=jump_locations, values=np.array([0.025, 0.051, 0.052, 0.053, 0.069, 0.068, 0.53, 0.055, 0.075, 0.049],dtype=dtype.name)),\r\n",
        "    jump_strikes = jump_strikes,\r\n",
        "    fx_fwd = TimeSeries(jump_locations=jump_locations, values=np.array([1.0, 1.002, 0.998, 1.04, 1.035, 1.01, 0.999, 0.998, 1.003, 1.01],dtype=dtype.name)),\r\n",
        "    local_vol_fx = TimeSeries(jump_locations=jump_locations, values=lv_surface),\r\n",
        "    step_size=0.01,\r\n",
        "    corr_matrix = tf.constant([[1.0, 0.2, 0.0, 0.3],\r\n",
        "                               [0.2, 1.0, 0.0, 0.3],\r\n",
        "                               [0.0, 0.0, 1.0, 0.8],\r\n",
        "                               [0.3, 0.3, 0.8, 1.0]], dtype=dtype),\r\n",
        "    dtype=dtype\r\n",
        ")"
      ],
      "execution_count": 67,
      "outputs": []
    },
    {
      "cell_type": "markdown",
      "metadata": {
        "id": "Y7zf2JZ-k--g"
      },
      "source": [
        "## Model Calibration\r\n",
        "\r\n",
        "To keep things simple let's just try to find the *lv_surface* that will map closest match to our target i.e implied_vol from market.\r\n",
        "\r\n",
        "Moment of truth: Given the input dimenion of objective function is 50 ('local_vol_fx' surface of size 10x5 i.e 10 maturities by 5 strikes) and similarly output dimension is 50 as well, below cell execution will take forever. (if one really wants to test the execution, can reduce *option_maturities* to size of 1 array)"
      ]
    },
    {
      "cell_type": "code",
      "metadata": {
        "colab": {
          "base_uri": "https://localhost:8080/"
        },
        "id": "8BDIBRUNm8T4",
        "outputId": "da60be44-0a4e-4d7d-bc67-13d2d169314a"
      },
      "source": [
        "# These are alll the maturities we want to reprice our call options\r\n",
        "option_maturities = [0.05, 0.1, 0.15, 0.2, 0.3, 0.5, 0.7, 0.9, 1.1, 1.3]\r\n",
        "option_maturities = [ 0.05 ] # <-- uncomment this if interested in watching execution finish in few mins\r\n",
        "number_of_maturities = len(option_maturities)\r\n",
        "\r\n",
        "# These are alll the strikes (on each of above 'option_maturities') of those call options\r\n",
        "option_strikes =np.array([0.95, 0.99 , 1, 1.001, 1.05])\r\n",
        "number_of_strikes = len(option_strikes)\r\n",
        "\r\n",
        "# Number of Monte carlo paths\r\n",
        "num_samples = 40000\r\n",
        "\r\n",
        "# Let's say this is the implied vol coming from market\r\n",
        "implied_vol_target = np.array([ [ 0.36165047, 0.38006929, 0.38622322, 0.38688029, 0.42223257 ],\r\n",
        "       [ 0.49930734, 0.52086326, 0.52665937, 0.52725076, 0.5561736 ],\r\n",
        "       [ 0.53926329, 0.56007775, 0.56558462, 0.56613531, 0.59324591 ],\r\n",
        "       [ 0.55870456, 0.57847004, 0.5836174 , 0.58413716, 0.60937169 ],\r\n",
        "       [ 0.58499617, 0.60206912, 0.60646861, 0.60690938, 0.62796077 ],\r\n",
        "       [ 0.61917847, 0.63211846, 0.63541694, 0.63574893, 0.65183933 ],\r\n",
        "       [ 0.64890557, 0.65896691, 0.66159441, 0.66185734, 0.67469815 ],\r\n",
        "       [ 0.68506316, 0.69196701, 0.69382324, 0.69401138, 0.70335816 ],\r\n",
        "       [ 0.74270218, 0.74599681, 0.74702723, 0.74713323, 0.75264819 ],\r\n",
        "       [ 0.8005369 , 0.79634181, 0.79554414, 0.79546886, 0.7927459 ] ])\r\n",
        "\r\n",
        "\r\n",
        "implied_vol_target = implied_vol_target[:number_of_maturities] # slice till 'number_of_maturities', just in case user wants to try reduced number of maturities\r\n",
        "\r\n",
        "# This is the initial guess for our LV surface (one of the model parameters of model)\r\n",
        "lv_surface_init_guess = np.array([[0.6, 0.36, 0.246, 0.546, 0.7978],\r\n",
        "                         [0.68, 0.37, 0.112, 0.476, 0.8987],\r\n",
        "                         [0.65, 0.33, 0.224, 0.676, 0.764],\r\n",
        "                         [0.634, 0.336, 0.332, 0.566, 0.907],\r\n",
        "                         [0.76, 0.456, 0.152, 0.601, 0.67],\r\n",
        "                         [0.676, 0.3745, 0.1632, 0.623, 0.788],\r\n",
        "                         [0.687, 0.243, 0.2123, 0.622, 0.7576],\r\n",
        "                         [0.576, 0.473, 0.253, 0.556, 0.7123],\r\n",
        "                         [0.56, 0.346, 0.2252, 0.786, 0.867],\r\n",
        "                         [0.786, 0.354, 0.2691, 0.634, 0.7545]])\r\n",
        "                       \r\n",
        "lv_surface_init_guess = lv_surface_init_guess[:number_of_maturities] # slice till 'number_of_maturities', just in case user wants to try reduced number of maturities\r\n",
        "\r\n",
        "# Let's define our objective function\r\n",
        "def objective_fn(lv_surface_guess_flatened):\r\n",
        "  lv_surface_guess = np.split(lv_surface_guess_flatened, number_of_maturities)\r\n",
        "  model.local_vol_fx = TimeSeries(jump_locations=option_maturities[:-1], values=lv_surface_guess)\r\n",
        "  implied_vols_from_model = model.implied_vol(option_maturities=option_maturities, option_strikes=option_strikes,num_samples=num_samples)\r\n",
        "  errors = np.array((implied_vol_target - implied_vols_from_model)).flatten() * 1e4 # in bps\r\n",
        "  # print(\"errors:\", errors)\r\n",
        "  return errors\r\n",
        "\r\n",
        "# Feel free to use your favourite optimizer\r\n",
        "roots = optimize.least_squares(objective_fn,\r\n",
        "                      x0= lv_surface_init_guess.flatten(), \r\n",
        "                      ftol=0.05,\r\n",
        "                      xtol=None,\r\n",
        "                      gtol=None,)\r\n",
        "\r\n",
        "roots.x # this is best lv_surface that should be used in model, as it closely maps to implied_vols_from_model to 'implied_vol_target'\r\n",
        "\r\n",
        "#  roots.x should be \r\n",
        "#\r\n",
        "# [ [0.786, 0.354, 0.2691, 0.634, 0.07545],\r\n",
        "#   [0.812, 0.377, 0.112, 0.476, 0.987 ],\r\n",
        "#   [0.687, 0.243, 0.2123, 0.622, 0.7576],\r\n",
        "#   [0.65, 0.33, 0.224, 0.676, 0.764],\r\n",
        "#   [0.576, 0.473, 0.0253, 0.556, 0.7123],\r\n",
        "#   [0.634, 0.36, 0.0332, 0.566, 0.907],\r\n",
        "#   [0.76, 0.456, 0.0152, 0.601, 0.67],\r\n",
        "#   [0.676, 0.03745, 0.1632, 0.623, 0.7088],\r\n",
        "#   [0.56, 0.346, 0.2252, 0.0786, 0.867],\r\n",
        "#   [0.786, 0.354, 0.2691, 0.634, 0.7545] ]\r\n",
        "#\r\n",
        "# for above 'implied_vol_target' values\r\n"
      ],
      "execution_count": 68,
      "outputs": [
        {
          "output_type": "execute_result",
          "data": {
            "text/plain": [
              "array([0.77430605, 0.3037627 , 0.22704899, 1.41356287, 0.83363455])"
            ]
          },
          "metadata": {
            "tags": []
          },
          "execution_count": 68
        }
      ]
    },
    {
      "cell_type": "markdown",
      "metadata": {
        "id": "HTX44lflr8_S"
      },
      "source": [
        "# Using Machine learning to reduce calibration time\r\n",
        "\r\n",
        "Now we should try to reduce calibration time complexity using machine learning. The major bottleneck in above calibration is repeated calls to *model.implied_vol* function inside optimizer which is quite heavy due to Monte-Carlo Simulation.\r\n",
        "\r\n",
        "If somehow we can learn that function (which is mapping local_vol model parameter to implied vol), then we can use that function underneath the optimizer as replacement and it would be many fold faster!"
      ]
    },
    {
      "cell_type": "markdown",
      "metadata": {
        "id": "T-7O21QRfYGY"
      },
      "source": [
        "## Training Data Generation\r\n",
        "First step is generate training dataset"
      ]
    },
    {
      "cell_type": "code",
      "metadata": {
        "id": "KQ5D2Ob_Guft",
        "colab": {
          "base_uri": "https://localhost:8080/"
        },
        "outputId": "9e17eadf-a853-4963-9043-c6512dc4e5bc"
      },
      "source": [
        "# These are alll the maturities we want to reprice our call options\r\n",
        "option_maturities = [0.05, 0.1, 0.15, 0.2, 0.3, 0.5, 0.7, 0.9, 1.1, 1.3]\r\n",
        "number_of_maturities = len(option_maturities)\r\n",
        "\r\n",
        "# These are alll the strikes (on each of above 'option_maturities') of those call options\r\n",
        "option_strikes =np.array([0.95, 0.99 , 1, 1.001, 1.05])\r\n",
        "number_of_strikes = len(option_strikes)\r\n",
        "\r\n",
        "# Number of Monte carlo paths\r\n",
        "num_samples = 40000\r\n",
        "\r\n",
        "training_samples = 10000 # Warning!! takes fair amount of time, feel free to change as per requirement (can use GPUs to speedup)\r\n",
        "np.random.seed(0)\r\n",
        "\r\n",
        "features = []\r\n",
        "number_of_features = number_of_maturities * number_of_strikes\r\n",
        "for i in range(number_of_features):\r\n",
        "  features.append(np.random.uniform(0.0, 1.0, training_samples) * 0.0)\r\n",
        "features = np.array(features).transpose()\r\n",
        "print(\"features\", features.shape)\r\n",
        "\r\n",
        "# plugging each of those surface, we will generate implied vols from that model\r\n",
        "labels = []\r\n",
        "for feature in features:\r\n",
        "  lv_surface = np.split(feature, number_of_maturities)\r\n",
        "  model.local_vol_fx = TimeSeries(jump_locations=option_maturities[:-1], values=lv_surface)\r\n",
        "  implied_vols_from_model = model.implied_vol(option_maturities=option_maturities, option_strikes=option_strikes,num_samples=num_samples)\r\n",
        "  labels.append(np.array(implied_vols_from_model).flatten())\r\n",
        "labels = np.array(labels)\r\n",
        "print(\"labels\", labels.shape)"
      ],
      "execution_count": 63,
      "outputs": [
        {
          "output_type": "stream",
          "text": [
            "features (1, 50)\n",
            "labels (1, 50)\n"
          ],
          "name": "stdout"
        }
      ]
    },
    {
      "cell_type": "markdown",
      "metadata": {
        "id": "yehk-phqmQFt"
      },
      "source": [
        "## Training\r\n",
        "Use your favourite API to learn above mapping"
      ]
    },
    {
      "cell_type": "code",
      "metadata": {
        "id": "758JgNjNih80"
      },
      "source": [
        "# your code please\r\n",
        "\r\n",
        "\r\n",
        "# after taining, we should have predition function that takes lv_surface and predicts implied vols\r\n",
        "def prediction_function(lv_surface):\r\n",
        "  pass"
      ],
      "execution_count": null,
      "outputs": []
    },
    {
      "cell_type": "markdown",
      "metadata": {
        "id": "K9dBpGyntLlA"
      },
      "source": [
        "Now use your prediction function in above calibration step instead of original function and see if you can achieve.\r\n",
        "1. same accuracy as original function.\r\n",
        "2. speed"
      ]
    }
  ]
}